{
  "nbformat": 4,
  "nbformat_minor": 0,
  "metadata": {
    "colab": {
      "name": "Pilas_1310.ipynb",
      "provenance": [],
      "collapsed_sections": [],
      "authorship_tag": "ABX9TyOcNlITfrAWSwZfh7pukGap",
      "include_colab_link": true
    },
    "kernelspec": {
      "name": "python3",
      "display_name": "Python 3"
    },
    "language_info": {
      "name": "python"
    }
  },
  "cells": [
    {
      "cell_type": "markdown",
      "metadata": {
        "id": "view-in-github",
        "colab_type": "text"
      },
      "source": [
        "<a href=\"https://colab.research.google.com/github/victorceddiaz/CuestionarioDeControl11/blob/main/Pilas_1310.ipynb\" target=\"_parent\"><img src=\"https://colab.research.google.com/assets/colab-badge.svg\" alt=\"Open In Colab\"/></a>"
      ]
    },
    {
      "cell_type": "code",
      "metadata": {
        "id": "JmNw4QZvMuRg"
      },
      "source": [
        "class StackADT :\n",
        "    def __init__(self) :\n",
        "        self.__data = list()\n",
        "\n",
        "    def is_empty(self) :\n",
        "        return len(self.__data) == 0\n",
        "    \n",
        "    def get_length(self) :\n",
        "        return len(self.__data)\n",
        "\n",
        "    def pop(self) :\n",
        "        if self.is_empty() :\n",
        "            print(\"Pila vacía, nada que sacar\")\n",
        "        else :\n",
        "            return self.__data.pop()\n",
        "\n",
        "    def peek(self) :\n",
        "        if self.is_empty() :\n",
        "            print(\"Pila vacía, nada que sacar\")\n",
        "        else :\n",
        "            return self.__data[-1]\n",
        "    \n",
        "    def push(self, value) :\n",
        "        self.__data.append(value)\n",
        "\n",
        "    def to_string(self) :\n",
        "        for item in self.__data[::-1] :\n",
        "            print(f'| { item } |')"
      ],
      "execution_count": 3,
      "outputs": []
    },
    {
      "cell_type": "code",
      "metadata": {
        "colab": {
          "base_uri": "https://localhost:8080/"
        },
        "id": "hIHXB3YKQdbN",
        "outputId": "4667c7f3-d65b-44c7-a7d2-ed13be180dab"
      },
      "source": [
        "pila = StackADT()\n",
        "print(\"Esta vacía? : \", pila.is_empty())\n",
        "print(\"Elementos : \", pila.get_length())\n",
        "pila.push(10)\n",
        "print(\"Esta vacía? : \", pila.is_empty())\n",
        "print(\"Elementos : \", pila.get_length())\n",
        "pila.push(20)\n",
        "pila.push(30)\n",
        "pila.push(40)\n",
        "pila.to_string()\n",
        "print(\"Ultimo elemento (Pop) : \", pila.pop())\n",
        "print(\"Peek : \", pila.peek())\n",
        "pila.to_string()"
      ],
      "execution_count": 4,
      "outputs": [
        {
          "output_type": "stream",
          "name": "stdout",
          "text": [
            "Esta vacía? :  True\n",
            "Elementos :  0\n",
            "Esta vacía? :  False\n",
            "Elementos :  1\n",
            "| 40 |\n",
            "| 30 |\n",
            "| 20 |\n",
            "| 10 |\n",
            "Ultimo elemento (Pop) :  40\n",
            "Peek :  30\n",
            "| 30 |\n",
            "| 20 |\n",
            "| 10 |\n"
          ]
        }
      ]
    },
    {
      "cell_type": "markdown",
      "metadata": {
        "id": "QZ881_UmzOSX"
      },
      "source": [
        "#Aplicaciones\n",
        "##Balanceo de paréntesis"
      ]
    },
    {
      "cell_type": "code",
      "metadata": {
        "colab": {
          "base_uri": "https://localhost:8080/"
        },
        "id": "xMZEeMhbzOrf",
        "outputId": "e831663a-aa46-447c-c593-227390ce7412"
      },
      "source": [
        "!cat prog.txt"
      ],
      "execution_count": 2,
      "outputs": [
        {
          "output_type": "stream",
          "name": "stdout",
          "text": [
            "#include <stdio.h>\r\n",
            "int main()\r\n",
            "{\r\n",
            "    int num, count, sum = 0;\r\n",
            "\r\n",
            "    printf(\"Enter a positive integer: \");\r\n",
            "    scanf(\"%d\", &num);\r\n",
            "\r\n",
            "    // for loop terminates when num is less than count\r\n",
            "    for(count = 1; count <= num; ++count)\r\n",
            "    {\r\n",
            "        sum += count;\r\n",
            "    }\r\n",
            "\r\n",
            "    printf(\"Sum = %d\", sum);\r\n",
            "\r\n",
            "    return 0;\r\n",
            "}"
          ]
        }
      ]
    },
    {
      "cell_type": "code",
      "metadata": {
        "colab": {
          "base_uri": "https://localhost:8080/"
        },
        "id": "kDJHmk-Nz3lU",
        "outputId": "d6d4b982-4ca5-4a8f-82c5-01f33814f505"
      },
      "source": [
        "entrada= open('matriz.txt', 'rt')\n",
        "codigo = entrada.read()\n",
        "pilaControl=StackADT()\n",
        "pilaControl.push(\"#\") #Caracter de pila vacía\n",
        "\n",
        "for letra in codigo :\n",
        "    if letra == '{' :\n",
        "        pilaControl.push('{')  # regla 1\n",
        "    elif letra == '}' :\n",
        "        basura = pilaControl.pop() # regla 2\n",
        "    else :\n",
        "        pass\n",
        "\n",
        "# NOTA: Este código aún no contempla desbalanceo de más llaves de cierre\n",
        "\n",
        "if pilaControl.peek() == '#' :\n",
        "    print(\"El código proporcionado esta correctamente balanceado.\")\n",
        "else :\n",
        "    print(\"El código no esta balanceado en llaves { y }.\")"
      ],
      "execution_count": 12,
      "outputs": [
        {
          "output_type": "stream",
          "name": "stdout",
          "text": [
            "El código proporcionado esta correctamente balanceado.\n"
          ]
        }
      ]
    },
    {
      "cell_type": "markdown",
      "metadata": {
        "id": "JTFlhjT87Hdt"
      },
      "source": [
        "#Aplicación de pilas\n",
        "##Estrategia de diseño de algoritmos Backtracking"
      ]
    }
  ]
}